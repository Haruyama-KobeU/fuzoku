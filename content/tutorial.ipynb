{
 "cells": [
  {
   "cell_type": "markdown",
   "id": "fef38085-c45b-4ef5-b082-00c6598bb4f9",
   "metadata": {},
   "source": [
    "# 一人当たりGDPでみる日本：演習"
   ]
  },
  {
   "cell_type": "markdown",
   "id": "558fe093-f055-4ddb-ad5e-4f9b117d0327",
   "metadata": {
    "jp-MarkdownHeadingCollapsed": true
   },
   "source": [
    "## 導入"
   ]
  },
  {
   "cell_type": "markdown",
   "id": "1eaf6ffd-eff0-4ce9-857f-88b658dead07",
   "metadata": {},
   "source": [
    "* 演習の目的\n",
    "    * `Python`を使い講義の図を再現し、プログラミングによるデータ分析の基礎を体験する。\n",
    "* `Python`は`YouTube`などに広く使われ、また、初心者に一番学びやすいプログラミング言語と言われています。\n",
    "* ここでは以下のリンクからアクセスできる`JupyterLite`を使い、`Python`を実行します。\n",
    "    * https://haruyama-kobeu.github.io/fuzoku/\n",
    "* 今開いているファイルは`Notebook`と言われますが、`JupyterLite`上で`Notebook`を開くと、`Python`が起動した状態になります。\n",
    "* 【注意点】\n",
    "    * コードは全て**半角**で書いてください。全角で書くとエラーになります。特に、全角スペースは見えないので「全角スペース忍者」には要注意です！\n",
    "    * コードは**左詰め**で書いてください。"
   ]
  },
  {
   "cell_type": "markdown",
   "id": "928c0d57-9b05-4dd6-a296-0820dbf3fa3e",
   "metadata": {
    "jp-MarkdownHeadingCollapsed": true
   },
   "source": [
    "## 簡単なコードの実行"
   ]
  },
  {
   "cell_type": "markdown",
   "id": "ee49e0cd-696d-4d17-8451-d1b4b9624789",
   "metadata": {},
   "source": [
    "下にあるスペースがセルと呼ばれ、そこにコードを書きます。`10`とセルに書いてみましょう。そして、`Shift`キーを押したまま`Enter`を押すと、セルに書いたコードが実行され結果が表示されます。"
   ]
  },
  {
   "cell_type": "code",
   "execution_count": 1,
   "id": "2ddc36b9-36e1-46ad-9764-c263624d3cb3",
   "metadata": {},
   "outputs": [
    {
     "data": {
      "text/plain": [
       "10"
      ]
     },
     "execution_count": 1,
     "metadata": {},
     "output_type": "execute_result"
    }
   ],
   "source": [
    "10"
   ]
  },
  {
   "cell_type": "markdown",
   "id": "f6a6ae09-eb3b-4d59-bff7-dfda34d800f2",
   "metadata": {},
   "source": [
    "`10`を実行したので、`10`が表示されました。\n",
    "\n",
    "四則演算＋累乗には次の記号を使います。\n",
    "* `+`：足し算\n",
    "* `-`：引き算\n",
    "* `*`：掛け算\n",
    "* `/`：割り算\n",
    "* `**`：累乗\n",
    "\n",
    "`10 / 5`と書いて実行してください。"
   ]
  },
  {
   "cell_type": "code",
   "execution_count": 2,
   "id": "3ef43f9d-30ab-43bf-92ba-3b55b0acf29e",
   "metadata": {},
   "outputs": [
    {
     "data": {
      "text/plain": [
       "2.0"
      ]
     },
     "execution_count": 2,
     "metadata": {},
     "output_type": "execute_result"
    }
   ],
   "source": [
    "10 / 5"
   ]
  },
  {
   "cell_type": "markdown",
   "id": "c0942acb-1976-42ca-a93e-b5a4edf93c7c",
   "metadata": {},
   "source": [
    "`2.0`が表示されました。\n",
    "\n",
    "次のコードでは、`(5-3)*2`の計算結果を変数`x`に代入します。代入するには`=`を使います。\n",
    "```\n",
    "x = (5-3) * 2\n",
    "```\n",
    "上のコードを書いて実行しましょう。"
   ]
  },
  {
   "cell_type": "code",
   "execution_count": 3,
   "id": "5a498b34-7288-4128-b011-ab5a7b475f70",
   "metadata": {},
   "outputs": [],
   "source": [
    "x = (5-3) * 2"
   ]
  },
  {
   "cell_type": "markdown",
   "id": "c4ad6935-9a42-4b44-90c2-5e7197d0d72c",
   "metadata": {},
   "source": [
    "次に、`x`と書いて実行しましょう。"
   ]
  },
  {
   "cell_type": "code",
   "execution_count": 4,
   "id": "5b0294d7-4840-4bb1-8d3d-e3094aa6b0f7",
   "metadata": {},
   "outputs": [
    {
     "data": {
      "text/plain": [
       "4"
      ]
     },
     "execution_count": 4,
     "metadata": {},
     "output_type": "execute_result"
    }
   ],
   "source": [
    "x"
   ]
  },
  {
   "cell_type": "markdown",
   "id": "a5d2df52-3a3d-4191-8bd0-d86e0667a85a",
   "metadata": {},
   "source": [
    "`4`が表示されました。"
   ]
  },
  {
   "cell_type": "markdown",
   "id": "c9c39050-178c-4ff1-8442-dfff4170a23a",
   "metadata": {
    "jp-MarkdownHeadingCollapsed": true
   },
   "source": [
    "## データの読み込み"
   ]
  },
  {
   "cell_type": "markdown",
   "id": "c3abb288-2b65-4a6a-9f31-4d2833daaf63",
   "metadata": {},
   "source": [
    "データ分析やプロット（図示）のツールが含まれる`pandas`と呼ばれるパッケージ（アプリのアドオンのようなもの）を読み込みます。次のコードを実行すると、様々な関数（「ツール」というイメージ）が使えるように準備されます。\n",
    "```\n",
    "import pandas as pd\n",
    "```\n",
    "上のコードを書いて実行してください。"
   ]
  },
  {
   "cell_type": "code",
   "execution_count": 5,
   "id": "ce2ce1f3-9e78-47a9-b515-a788cd0c52dc",
   "metadata": {},
   "outputs": [],
   "source": [
    "import pandas as pd"
   ]
  },
  {
   "cell_type": "markdown",
   "id": "e1fca31a-0ab2-40bb-8a2e-6fa8f5a4b918",
   "metadata": {},
   "source": [
    "これで`pandas`は`pd`として認識されました。\n",
    "\n",
    "次に、`.csv`ファイルと呼ばれるファイルを読み込むために、`pd.read_csv()`関数を使います。\n",
    "```\n",
    "pd.read_csv(\"gdp.csv\")\n",
    "```\n",
    "`()`の中に書くものを関数の引数（ひきすう）と呼びます。`gdp.csv`はファイル名であり、それをクォート`\"`で囲みます。`Python`では、`\"`で囲むと文字列となります。上のコードを書いて実行しましょう。"
   ]
  },
  {
   "cell_type": "code",
   "execution_count": 20,
   "id": "42e3244c-cad8-4851-9490-707145288848",
   "metadata": {},
   "outputs": [
    {
     "data": {
      "text/html": [
       "<div>\n",
       "<style scoped>\n",
       "    .dataframe tbody tr th:only-of-type {\n",
       "        vertical-align: middle;\n",
       "    }\n",
       "\n",
       "    .dataframe tbody tr th {\n",
       "        vertical-align: top;\n",
       "    }\n",
       "\n",
       "    .dataframe thead th {\n",
       "        text-align: right;\n",
       "    }\n",
       "</style>\n",
       "<table border=\"1\" class=\"dataframe\">\n",
       "  <thead>\n",
       "    <tr style=\"text-align: right;\">\n",
       "      <th></th>\n",
       "      <th>year</th>\n",
       "      <th>gdp</th>\n",
       "      <th>pop</th>\n",
       "    </tr>\n",
       "  </thead>\n",
       "  <tbody>\n",
       "    <tr>\n",
       "      <th>0</th>\n",
       "      <td>1980</td>\n",
       "      <td>2.733895e+14</td>\n",
       "      <td>117060000</td>\n",
       "    </tr>\n",
       "    <tr>\n",
       "      <th>1</th>\n",
       "      <td>1981</td>\n",
       "      <td>2.850376e+14</td>\n",
       "      <td>117902000</td>\n",
       "    </tr>\n",
       "    <tr>\n",
       "      <th>2</th>\n",
       "      <td>1982</td>\n",
       "      <td>2.943861e+14</td>\n",
       "      <td>118728000</td>\n",
       "    </tr>\n",
       "    <tr>\n",
       "      <th>3</th>\n",
       "      <td>1983</td>\n",
       "      <td>3.050729e+14</td>\n",
       "      <td>119536000</td>\n",
       "    </tr>\n",
       "    <tr>\n",
       "      <th>4</th>\n",
       "      <td>1984</td>\n",
       "      <td>3.185293e+14</td>\n",
       "      <td>120305000</td>\n",
       "    </tr>\n",
       "    <tr>\n",
       "      <th>5</th>\n",
       "      <td>1985</td>\n",
       "      <td>3.349648e+14</td>\n",
       "      <td>121049000</td>\n",
       "    </tr>\n",
       "    <tr>\n",
       "      <th>6</th>\n",
       "      <td>1986</td>\n",
       "      <td>3.459987e+14</td>\n",
       "      <td>121660000</td>\n",
       "    </tr>\n",
       "    <tr>\n",
       "      <th>7</th>\n",
       "      <td>1987</td>\n",
       "      <td>3.620837e+14</td>\n",
       "      <td>122239000</td>\n",
       "    </tr>\n",
       "    <tr>\n",
       "      <th>8</th>\n",
       "      <td>1988</td>\n",
       "      <td>3.862044e+14</td>\n",
       "      <td>122745000</td>\n",
       "    </tr>\n",
       "    <tr>\n",
       "      <th>9</th>\n",
       "      <td>1989</td>\n",
       "      <td>4.052280e+14</td>\n",
       "      <td>123205000</td>\n",
       "    </tr>\n",
       "    <tr>\n",
       "      <th>10</th>\n",
       "      <td>1990</td>\n",
       "      <td>4.248448e+14</td>\n",
       "      <td>123611000</td>\n",
       "    </tr>\n",
       "    <tr>\n",
       "      <th>11</th>\n",
       "      <td>1991</td>\n",
       "      <td>4.398136e+14</td>\n",
       "      <td>124101000</td>\n",
       "    </tr>\n",
       "    <tr>\n",
       "      <th>12</th>\n",
       "      <td>1992</td>\n",
       "      <td>4.437745e+14</td>\n",
       "      <td>124567000</td>\n",
       "    </tr>\n",
       "    <tr>\n",
       "      <th>13</th>\n",
       "      <td>1993</td>\n",
       "      <td>4.417366e+14</td>\n",
       "      <td>124938000</td>\n",
       "    </tr>\n",
       "    <tr>\n",
       "      <th>14</th>\n",
       "      <td>1994</td>\n",
       "      <td>4.465223e+14</td>\n",
       "      <td>125265000</td>\n",
       "    </tr>\n",
       "    <tr>\n",
       "      <th>15</th>\n",
       "      <td>1995</td>\n",
       "      <td>4.582703e+14</td>\n",
       "      <td>125570000</td>\n",
       "    </tr>\n",
       "    <tr>\n",
       "      <th>16</th>\n",
       "      <td>1996</td>\n",
       "      <td>4.726319e+14</td>\n",
       "      <td>125859000</td>\n",
       "    </tr>\n",
       "    <tr>\n",
       "      <th>17</th>\n",
       "      <td>1997</td>\n",
       "      <td>4.772695e+14</td>\n",
       "      <td>126157000</td>\n",
       "    </tr>\n",
       "    <tr>\n",
       "      <th>18</th>\n",
       "      <td>1998</td>\n",
       "      <td>4.712066e+14</td>\n",
       "      <td>126472000</td>\n",
       "    </tr>\n",
       "    <tr>\n",
       "      <th>19</th>\n",
       "      <td>1999</td>\n",
       "      <td>4.696331e+14</td>\n",
       "      <td>126667000</td>\n",
       "    </tr>\n",
       "    <tr>\n",
       "      <th>20</th>\n",
       "      <td>2000</td>\n",
       "      <td>4.826168e+14</td>\n",
       "      <td>126926000</td>\n",
       "    </tr>\n",
       "    <tr>\n",
       "      <th>21</th>\n",
       "      <td>2001</td>\n",
       "      <td>4.844802e+14</td>\n",
       "      <td>127316000</td>\n",
       "    </tr>\n",
       "    <tr>\n",
       "      <th>22</th>\n",
       "      <td>2002</td>\n",
       "      <td>4.846835e+14</td>\n",
       "      <td>127486000</td>\n",
       "    </tr>\n",
       "    <tr>\n",
       "      <th>23</th>\n",
       "      <td>2003</td>\n",
       "      <td>4.921240e+14</td>\n",
       "      <td>127694000</td>\n",
       "    </tr>\n",
       "    <tr>\n",
       "      <th>24</th>\n",
       "      <td>2004</td>\n",
       "      <td>5.028824e+14</td>\n",
       "      <td>127787000</td>\n",
       "    </tr>\n",
       "    <tr>\n",
       "      <th>25</th>\n",
       "      <td>2005</td>\n",
       "      <td>5.119539e+14</td>\n",
       "      <td>127768000</td>\n",
       "    </tr>\n",
       "    <tr>\n",
       "      <th>26</th>\n",
       "      <td>2006</td>\n",
       "      <td>5.189797e+14</td>\n",
       "      <td>127901000</td>\n",
       "    </tr>\n",
       "    <tr>\n",
       "      <th>27</th>\n",
       "      <td>2007</td>\n",
       "      <td>5.266812e+14</td>\n",
       "      <td>128033000</td>\n",
       "    </tr>\n",
       "    <tr>\n",
       "      <th>28</th>\n",
       "      <td>2008</td>\n",
       "      <td>5.202331e+14</td>\n",
       "      <td>128084000</td>\n",
       "    </tr>\n",
       "    <tr>\n",
       "      <th>29</th>\n",
       "      <td>2009</td>\n",
       "      <td>4.906150e+14</td>\n",
       "      <td>128032000</td>\n",
       "    </tr>\n",
       "    <tr>\n",
       "      <th>30</th>\n",
       "      <td>2010</td>\n",
       "      <td>5.107200e+14</td>\n",
       "      <td>128057000</td>\n",
       "    </tr>\n",
       "    <tr>\n",
       "      <th>31</th>\n",
       "      <td>2011</td>\n",
       "      <td>5.108416e+14</td>\n",
       "      <td>127834000</td>\n",
       "    </tr>\n",
       "    <tr>\n",
       "      <th>32</th>\n",
       "      <td>2012</td>\n",
       "      <td>5.178644e+14</td>\n",
       "      <td>127593000</td>\n",
       "    </tr>\n",
       "    <tr>\n",
       "      <th>33</th>\n",
       "      <td>2013</td>\n",
       "      <td>5.282481e+14</td>\n",
       "      <td>127414000</td>\n",
       "    </tr>\n",
       "    <tr>\n",
       "      <th>34</th>\n",
       "      <td>2014</td>\n",
       "      <td>5.298128e+14</td>\n",
       "      <td>127237000</td>\n",
       "    </tr>\n",
       "    <tr>\n",
       "      <th>35</th>\n",
       "      <td>2015</td>\n",
       "      <td>5.380812e+14</td>\n",
       "      <td>127095000</td>\n",
       "    </tr>\n",
       "    <tr>\n",
       "      <th>36</th>\n",
       "      <td>2016</td>\n",
       "      <td>5.421374e+14</td>\n",
       "      <td>127042000</td>\n",
       "    </tr>\n",
       "    <tr>\n",
       "      <th>37</th>\n",
       "      <td>2017</td>\n",
       "      <td>5.512200e+14</td>\n",
       "      <td>126919000</td>\n",
       "    </tr>\n",
       "    <tr>\n",
       "      <th>38</th>\n",
       "      <td>2018</td>\n",
       "      <td>5.547665e+14</td>\n",
       "      <td>126749000</td>\n",
       "    </tr>\n",
       "    <tr>\n",
       "      <th>39</th>\n",
       "      <td>2019</td>\n",
       "      <td>5.525354e+14</td>\n",
       "      <td>126555000</td>\n",
       "    </tr>\n",
       "    <tr>\n",
       "      <th>40</th>\n",
       "      <td>2020</td>\n",
       "      <td>5.296211e+14</td>\n",
       "      <td>126146000</td>\n",
       "    </tr>\n",
       "    <tr>\n",
       "      <th>41</th>\n",
       "      <td>2021</td>\n",
       "      <td>5.431731e+14</td>\n",
       "      <td>125502000</td>\n",
       "    </tr>\n",
       "    <tr>\n",
       "      <th>42</th>\n",
       "      <td>2022</td>\n",
       "      <td>5.485704e+14</td>\n",
       "      <td>124947000</td>\n",
       "    </tr>\n",
       "    <tr>\n",
       "      <th>43</th>\n",
       "      <td>2023</td>\n",
       "      <td>5.587269e+14</td>\n",
       "      <td>124352000</td>\n",
       "    </tr>\n",
       "  </tbody>\n",
       "</table>\n",
       "</div>"
      ],
      "text/plain": [
       "    year           gdp        pop\n",
       "0   1980  2.733895e+14  117060000\n",
       "1   1981  2.850376e+14  117902000\n",
       "2   1982  2.943861e+14  118728000\n",
       "3   1983  3.050729e+14  119536000\n",
       "4   1984  3.185293e+14  120305000\n",
       "5   1985  3.349648e+14  121049000\n",
       "6   1986  3.459987e+14  121660000\n",
       "7   1987  3.620837e+14  122239000\n",
       "8   1988  3.862044e+14  122745000\n",
       "9   1989  4.052280e+14  123205000\n",
       "10  1990  4.248448e+14  123611000\n",
       "11  1991  4.398136e+14  124101000\n",
       "12  1992  4.437745e+14  124567000\n",
       "13  1993  4.417366e+14  124938000\n",
       "14  1994  4.465223e+14  125265000\n",
       "15  1995  4.582703e+14  125570000\n",
       "16  1996  4.726319e+14  125859000\n",
       "17  1997  4.772695e+14  126157000\n",
       "18  1998  4.712066e+14  126472000\n",
       "19  1999  4.696331e+14  126667000\n",
       "20  2000  4.826168e+14  126926000\n",
       "21  2001  4.844802e+14  127316000\n",
       "22  2002  4.846835e+14  127486000\n",
       "23  2003  4.921240e+14  127694000\n",
       "24  2004  5.028824e+14  127787000\n",
       "25  2005  5.119539e+14  127768000\n",
       "26  2006  5.189797e+14  127901000\n",
       "27  2007  5.266812e+14  128033000\n",
       "28  2008  5.202331e+14  128084000\n",
       "29  2009  4.906150e+14  128032000\n",
       "30  2010  5.107200e+14  128057000\n",
       "31  2011  5.108416e+14  127834000\n",
       "32  2012  5.178644e+14  127593000\n",
       "33  2013  5.282481e+14  127414000\n",
       "34  2014  5.298128e+14  127237000\n",
       "35  2015  5.380812e+14  127095000\n",
       "36  2016  5.421374e+14  127042000\n",
       "37  2017  5.512200e+14  126919000\n",
       "38  2018  5.547665e+14  126749000\n",
       "39  2019  5.525354e+14  126555000\n",
       "40  2020  5.296211e+14  126146000\n",
       "41  2021  5.431731e+14  125502000\n",
       "42  2022  5.485704e+14  124947000\n",
       "43  2023  5.587269e+14  124352000"
      ]
     },
     "execution_count": 20,
     "metadata": {},
     "output_type": "execute_result"
    }
   ],
   "source": [
    "pd.read_csv(\"gdp.csv\")"
   ]
  },
  {
   "cell_type": "markdown",
   "id": "40fa5aba-93a0-4bda-8bde-d565890ce8d7",
   "metadata": {},
   "source": [
    "`gdp.csv`の中身が表示されました。イメージ的にはエクセルのスプレッドシートと思えば良いでしょう。一番上に書いてあるのが、各列の名前になり、次の変数となります。\n",
    "* `year`：年\n",
    "* `gdp`：実質GDP（単位：円、2015年価格）\n",
    "* `pop`：人口（単位：人）\n",
    "\n",
    "列`gdp`には`e+14`とありますが、次の様に読み替えてください。\n",
    "\n",
    "$$\n",
    "\\text{e+14} = 10^{14}\n",
    "$$\n",
    "\n",
    "例えば、`2023`の値は、\n",
    "\n",
    "$$\n",
    "5.587269\\text{e+14} = 5.587269\\times10^{14}\n",
    "= 558,726,900,000,000\\text{（558兆7,269億）}\n",
    "$$\n",
    "\n",
    "ということになります。\n",
    "\n",
    "データを使うために、次のコードを使い、データ自体を`df`という変数（`df`でなくてもよい）に代入します。\n",
    "```\n",
    "df = pd.read_csv(\"gdp.csv\")\n",
    "```\n",
    "コードを実行しましょう。"
   ]
  },
  {
   "cell_type": "code",
   "execution_count": 21,
   "id": "c9438dd8-49e5-4067-b2dd-793eafcc55a6",
   "metadata": {},
   "outputs": [],
   "source": [
    "df = pd.read_csv(\"gdp.csv\")"
   ]
  },
  {
   "cell_type": "markdown",
   "id": "978ed7ed-4332-4615-8574-4d72a56c8e11",
   "metadata": {},
   "source": [
    "何も表示されませんが、`df`にデータが代入されました。再度、`df`を実行すると全てが表示されます。\n",
    "\n",
    "最初の5行だけを表示するためには、次のコードを実行します。\n",
    "```\n",
    "df.head()\n",
    "```\n",
    "コードを実行しましょう。"
   ]
  },
  {
   "cell_type": "code",
   "execution_count": 9,
   "id": "058552c2-1c5a-4413-a1cf-e23617707242",
   "metadata": {},
   "outputs": [
    {
     "data": {
      "text/html": [
       "<div>\n",
       "<style scoped>\n",
       "    .dataframe tbody tr th:only-of-type {\n",
       "        vertical-align: middle;\n",
       "    }\n",
       "\n",
       "    .dataframe tbody tr th {\n",
       "        vertical-align: top;\n",
       "    }\n",
       "\n",
       "    .dataframe thead th {\n",
       "        text-align: right;\n",
       "    }\n",
       "</style>\n",
       "<table border=\"1\" class=\"dataframe\">\n",
       "  <thead>\n",
       "    <tr style=\"text-align: right;\">\n",
       "      <th></th>\n",
       "      <th>year</th>\n",
       "      <th>gdp</th>\n",
       "      <th>pop</th>\n",
       "    </tr>\n",
       "  </thead>\n",
       "  <tbody>\n",
       "    <tr>\n",
       "      <th>0</th>\n",
       "      <td>1980</td>\n",
       "      <td>2.733895e+14</td>\n",
       "      <td>117060000</td>\n",
       "    </tr>\n",
       "    <tr>\n",
       "      <th>1</th>\n",
       "      <td>1981</td>\n",
       "      <td>2.850376e+14</td>\n",
       "      <td>117902000</td>\n",
       "    </tr>\n",
       "    <tr>\n",
       "      <th>2</th>\n",
       "      <td>1982</td>\n",
       "      <td>2.943861e+14</td>\n",
       "      <td>118728000</td>\n",
       "    </tr>\n",
       "    <tr>\n",
       "      <th>3</th>\n",
       "      <td>1983</td>\n",
       "      <td>3.050729e+14</td>\n",
       "      <td>119536000</td>\n",
       "    </tr>\n",
       "    <tr>\n",
       "      <th>4</th>\n",
       "      <td>1984</td>\n",
       "      <td>3.185293e+14</td>\n",
       "      <td>120305000</td>\n",
       "    </tr>\n",
       "  </tbody>\n",
       "</table>\n",
       "</div>"
      ],
      "text/plain": [
       "   year           gdp        pop\n",
       "0  1980  2.733895e+14  117060000\n",
       "1  1981  2.850376e+14  117902000\n",
       "2  1982  2.943861e+14  118728000\n",
       "3  1983  3.050729e+14  119536000\n",
       "4  1984  3.185293e+14  120305000"
      ]
     },
     "execution_count": 9,
     "metadata": {},
     "output_type": "execute_result"
    }
   ],
   "source": [
    "df.head()"
   ]
  },
  {
   "cell_type": "markdown",
   "id": "42b20f96-0416-4a25-99d2-fa3af87fdb3f",
   "metadata": {
    "jp-MarkdownHeadingCollapsed": true
   },
   "source": [
    "## 一人当たりGDPの計算"
   ]
  },
  {
   "cell_type": "markdown",
   "id": "b28d3f86-1dd4-400a-9629-aee47f85fd7f",
   "metadata": {},
   "source": [
    "列`gdp`だけを抽出するためには、次のコードを使います。\n",
    "```\n",
    "df[\"gdp\"]\n",
    "```\n",
    "実行してみましょう（クォート`\"`で列の名前を囲むことを忘れずに！）。"
   ]
  },
  {
   "cell_type": "code",
   "execution_count": 10,
   "id": "9f683b95-e603-4c6e-8632-893fba47c6c1",
   "metadata": {},
   "outputs": [
    {
     "data": {
      "text/plain": [
       "0     2.733895e+14\n",
       "1     2.850376e+14\n",
       "2     2.943861e+14\n",
       "3     3.050729e+14\n",
       "4     3.185293e+14\n",
       "5     3.349648e+14\n",
       "6     3.459987e+14\n",
       "7     3.620837e+14\n",
       "8     3.862044e+14\n",
       "9     4.052280e+14\n",
       "10    4.248448e+14\n",
       "11    4.398136e+14\n",
       "12    4.437745e+14\n",
       "13    4.417366e+14\n",
       "14    4.465223e+14\n",
       "15    4.582703e+14\n",
       "16    4.726319e+14\n",
       "17    4.772695e+14\n",
       "18    4.712066e+14\n",
       "19    4.696331e+14\n",
       "20    4.826168e+14\n",
       "21    4.844802e+14\n",
       "22    4.846835e+14\n",
       "23    4.921240e+14\n",
       "24    5.028824e+14\n",
       "25    5.119539e+14\n",
       "26    5.189797e+14\n",
       "27    5.266812e+14\n",
       "28    5.202331e+14\n",
       "29    4.906150e+14\n",
       "30    5.107200e+14\n",
       "31    5.108416e+14\n",
       "32    5.178644e+14\n",
       "33    5.282481e+14\n",
       "34    5.298128e+14\n",
       "35    5.380812e+14\n",
       "36    5.421374e+14\n",
       "37    5.512200e+14\n",
       "38    5.547665e+14\n",
       "39    5.525354e+14\n",
       "40    5.296211e+14\n",
       "41    5.431731e+14\n",
       "42    5.485704e+14\n",
       "43    5.587269e+14\n",
       "Name: gdp, dtype: float64"
      ]
     },
     "execution_count": 10,
     "metadata": {},
     "output_type": "execute_result"
    }
   ],
   "source": [
    "df[\"gdp\"]"
   ]
  },
  {
   "cell_type": "markdown",
   "id": "d89e23f0-2e69-425c-8781-9e7d58e83870",
   "metadata": {},
   "source": [
    "同様に列`pop`だけを抽出してみましょう。（クォート`\"`で列の名前を囲むことを忘れずに！）"
   ]
  },
  {
   "cell_type": "code",
   "execution_count": 11,
   "id": "62f06261-c264-4620-b3b5-70cdf5b933bb",
   "metadata": {},
   "outputs": [
    {
     "data": {
      "text/plain": [
       "0     117060000\n",
       "1     117902000\n",
       "2     118728000\n",
       "3     119536000\n",
       "4     120305000\n",
       "5     121049000\n",
       "6     121660000\n",
       "7     122239000\n",
       "8     122745000\n",
       "9     123205000\n",
       "10    123611000\n",
       "11    124101000\n",
       "12    124567000\n",
       "13    124938000\n",
       "14    125265000\n",
       "15    125570000\n",
       "16    125859000\n",
       "17    126157000\n",
       "18    126472000\n",
       "19    126667000\n",
       "20    126926000\n",
       "21    127316000\n",
       "22    127486000\n",
       "23    127694000\n",
       "24    127787000\n",
       "25    127768000\n",
       "26    127901000\n",
       "27    128033000\n",
       "28    128084000\n",
       "29    128032000\n",
       "30    128057000\n",
       "31    127834000\n",
       "32    127593000\n",
       "33    127414000\n",
       "34    127237000\n",
       "35    127095000\n",
       "36    127042000\n",
       "37    126919000\n",
       "38    126749000\n",
       "39    126555000\n",
       "40    126146000\n",
       "41    125502000\n",
       "42    124947000\n",
       "43    124352000\n",
       "Name: pop, dtype: int64"
      ]
     },
     "execution_count": 11,
     "metadata": {},
     "output_type": "execute_result"
    }
   ],
   "source": [
    "df[\"pop\"]"
   ]
  },
  {
   "cell_type": "markdown",
   "id": "f1f32f38-e92b-44c6-a7e1-03fa8e928f93",
   "metadata": {},
   "source": [
    "列`gdp`を列`pop`で割ることにより、一人当たりGDPを計算することができます。（クォート`\"`で列の名前を囲むことを忘れずに！）"
   ]
  },
  {
   "cell_type": "code",
   "execution_count": 12,
   "id": "44822218-d416-4fdc-a5b7-06aed9beb868",
   "metadata": {},
   "outputs": [
    {
     "data": {
      "text/plain": [
       "0     2.335465e+06\n",
       "1     2.417581e+06\n",
       "2     2.479500e+06\n",
       "3     2.552142e+06\n",
       "4     2.647681e+06\n",
       "5     2.767184e+06\n",
       "6     2.843981e+06\n",
       "7     2.962096e+06\n",
       "8     3.146396e+06\n",
       "9     3.289055e+06\n",
       "10    3.436950e+06\n",
       "11    3.543997e+06\n",
       "12    3.562537e+06\n",
       "13    3.535646e+06\n",
       "14    3.564621e+06\n",
       "15    3.649521e+06\n",
       "16    3.755249e+06\n",
       "17    3.783139e+06\n",
       "18    3.725778e+06\n",
       "19    3.707620e+06\n",
       "20    3.802348e+06\n",
       "21    3.805336e+06\n",
       "22    3.801857e+06\n",
       "23    3.853932e+06\n",
       "24    3.935317e+06\n",
       "25    4.006902e+06\n",
       "26    4.057667e+06\n",
       "27    4.113636e+06\n",
       "28    4.061656e+06\n",
       "29    3.831972e+06\n",
       "30    3.988224e+06\n",
       "31    3.996132e+06\n",
       "32    4.058721e+06\n",
       "33    4.145919e+06\n",
       "34    4.163984e+06\n",
       "35    4.233693e+06\n",
       "36    4.267387e+06\n",
       "37    4.343085e+06\n",
       "38    4.376891e+06\n",
       "39    4.365971e+06\n",
       "40    4.198477e+06\n",
       "41    4.328004e+06\n",
       "42    4.390425e+06\n",
       "43    4.493107e+06\n",
       "dtype: float64"
      ]
     },
     "execution_count": 12,
     "metadata": {},
     "output_type": "execute_result"
    }
   ],
   "source": [
    "df[\"gdp\"] / df[\"pop\"]"
   ]
  },
  {
   "cell_type": "markdown",
   "id": "09b25e44-5889-4990-81ed-92996763263b",
   "metadata": {},
   "source": [
    "次に、一人当たりGDPの値を`df`の新たな列として追加します。列の名前は`gdppc`とし、次のコードで追加することができます。\n",
    "```\n",
    "df[\"gdppc\"] = df[\"gdp\"] / df[\"pop\"]\n",
    "```\n",
    "実行しましょう。（クォート`\"`で列の名前を囲むことを忘れずに！）"
   ]
  },
  {
   "cell_type": "code",
   "execution_count": 13,
   "id": "6f0cf9fe-143a-434a-9afa-564823e76d7a",
   "metadata": {},
   "outputs": [],
   "source": [
    "df[\"gdppc\"] = df[\"gdp\"] / df[\"pop\"]"
   ]
  },
  {
   "cell_type": "markdown",
   "id": "9f86de72-11bd-4fc6-86d5-ea4443c329d6",
   "metadata": {},
   "source": [
    "`df.head()`を実行して最初の5行を表示し、新たな列が追加されているか確認しましょう。"
   ]
  },
  {
   "cell_type": "code",
   "execution_count": 14,
   "id": "f657d19d-274b-4c47-93eb-be4dd16a5d07",
   "metadata": {},
   "outputs": [
    {
     "data": {
      "text/html": [
       "<div>\n",
       "<style scoped>\n",
       "    .dataframe tbody tr th:only-of-type {\n",
       "        vertical-align: middle;\n",
       "    }\n",
       "\n",
       "    .dataframe tbody tr th {\n",
       "        vertical-align: top;\n",
       "    }\n",
       "\n",
       "    .dataframe thead th {\n",
       "        text-align: right;\n",
       "    }\n",
       "</style>\n",
       "<table border=\"1\" class=\"dataframe\">\n",
       "  <thead>\n",
       "    <tr style=\"text-align: right;\">\n",
       "      <th></th>\n",
       "      <th>year</th>\n",
       "      <th>gdp</th>\n",
       "      <th>pop</th>\n",
       "      <th>gdppc</th>\n",
       "    </tr>\n",
       "  </thead>\n",
       "  <tbody>\n",
       "    <tr>\n",
       "      <th>0</th>\n",
       "      <td>1980</td>\n",
       "      <td>2.733895e+14</td>\n",
       "      <td>117060000</td>\n",
       "      <td>2.335465e+06</td>\n",
       "    </tr>\n",
       "    <tr>\n",
       "      <th>1</th>\n",
       "      <td>1981</td>\n",
       "      <td>2.850376e+14</td>\n",
       "      <td>117902000</td>\n",
       "      <td>2.417581e+06</td>\n",
       "    </tr>\n",
       "    <tr>\n",
       "      <th>2</th>\n",
       "      <td>1982</td>\n",
       "      <td>2.943861e+14</td>\n",
       "      <td>118728000</td>\n",
       "      <td>2.479500e+06</td>\n",
       "    </tr>\n",
       "    <tr>\n",
       "      <th>3</th>\n",
       "      <td>1983</td>\n",
       "      <td>3.050729e+14</td>\n",
       "      <td>119536000</td>\n",
       "      <td>2.552142e+06</td>\n",
       "    </tr>\n",
       "    <tr>\n",
       "      <th>4</th>\n",
       "      <td>1984</td>\n",
       "      <td>3.185293e+14</td>\n",
       "      <td>120305000</td>\n",
       "      <td>2.647681e+06</td>\n",
       "    </tr>\n",
       "  </tbody>\n",
       "</table>\n",
       "</div>"
      ],
      "text/plain": [
       "   year           gdp        pop         gdppc\n",
       "0  1980  2.733895e+14  117060000  2.335465e+06\n",
       "1  1981  2.850376e+14  117902000  2.417581e+06\n",
       "2  1982  2.943861e+14  118728000  2.479500e+06\n",
       "3  1983  3.050729e+14  119536000  2.552142e+06\n",
       "4  1984  3.185293e+14  120305000  2.647681e+06"
      ]
     },
     "execution_count": 14,
     "metadata": {},
     "output_type": "execute_result"
    }
   ],
   "source": [
    "df.head()"
   ]
  },
  {
   "cell_type": "markdown",
   "id": "2054f8bf-203b-40e2-ac76-b8a7103f8cd6",
   "metadata": {
    "jp-MarkdownHeadingCollapsed": true
   },
   "source": [
    "## 一人当たりGDPのプロット（図示）"
   ]
  },
  {
   "cell_type": "markdown",
   "id": "54b28df6-13d8-4698-a58b-4789b98795e0",
   "metadata": {},
   "source": [
    "横軸に`year`、縦軸に`gdppc`の図を作成してみます。次の構文となります。\n",
    "```\n",
    "df.plot(x=\"＜横軸に使う列の名前＞\", y=\"＜縦軸に使う列の名前＞\")\n",
    "```\n",
    "ここで、`＜横軸に使う列の名前＞`には`year`、`＜縦軸に使う列の名前＞`には`gdppc`を指定します。クォート`\"`で列の名前を囲むことを忘れないようにして、コードを実行しましょう。"
   ]
  },
  {
   "cell_type": "code",
   "execution_count": 15,
   "id": "8f0241f1-9469-42e1-ac2d-582b35698615",
   "metadata": {},
   "outputs": [
    {
     "data": {
      "text/plain": [
       "<Axes: xlabel='year'>"
      ]
     },
     "execution_count": 15,
     "metadata": {},
     "output_type": "execute_result"
    },
    {
     "data": {
      "image/png": "[encoded data removed]",
      "text/plain": [
       "<Figure size 640x480 with 1 Axes>"
      ]
     },
     "metadata": {},
     "output_type": "display_data"
    }
   ],
   "source": [
    "df.plot(x=\"year\", y=\"gdppc\")"
   ]
  },
  {
   "cell_type": "markdown",
   "id": "a3ca67dc-e64d-4d2b-bc5d-e4309938e881",
   "metadata": {
    "jp-MarkdownHeadingCollapsed": true
   },
   "source": [
    "## 一人当たりGDP（自然対数）のプロット（図示）"
   ]
  },
  {
   "cell_type": "markdown",
   "id": "74666bb6-1043-4d1a-8121-49277c706a54",
   "metadata": {},
   "source": [
    "次の手順で進めます。\n",
    "1. `numpy`と呼ばれるパッケージを導入する必要があります。次のコードを実行すると、`numpy`は`np`として認識されます。\n",
    "  ```\n",
    "  import numpy as np\n",
    "  ```\n",
    "2. 列を自然対数に変換するために関数`np.log()`を使います。次のコードで`df[\"gdppc\"]`の全ての値は自然対数に変換されます。\n",
    "  ```\n",
    "  np.log( df[\"gdppc\"] )\n",
    "  ```\n",
    "3. `loge_gdppc`の列名を使い`df`の新たな列として追加します。\n",
    "  ```\n",
    "  df[\"loge_gdppc\"] = np.log( df[\"gdppc\"] )\n",
    "  ```\n",
    "4. プロットします。\n",
    "      ```\n",
    "      df.plot(x=\"year\", y=\"loge_gdppc\")\n",
    "      ```\n",
    "\n",
    "トライしてみよう！"
   ]
  },
  {
   "cell_type": "code",
   "execution_count": 16,
   "id": "05fbcfc8-96bb-40cf-845d-57311716dfa5",
   "metadata": {},
   "outputs": [],
   "source": [
    "import numpy as np"
   ]
  },
  {
   "cell_type": "code",
   "execution_count": 17,
   "id": "f00f8277-bd73-41fc-9204-bf213af393c3",
   "metadata": {},
   "outputs": [
    {
     "data": {
      "text/plain": [
       "0     14.663721\n",
       "1     14.698278\n",
       "2     14.723568\n",
       "3     14.752444\n",
       "4     14.789195\n",
       "5     14.833341\n",
       "6     14.860715\n",
       "7     14.901408\n",
       "8     14.961768\n",
       "9     15.006111\n",
       "10    15.050095\n",
       "11    15.080766\n",
       "12    15.085983\n",
       "13    15.078407\n",
       "14    15.086568\n",
       "15    15.110106\n",
       "16    15.138665\n",
       "17    15.146065\n",
       "18    15.130786\n",
       "19    15.125901\n",
       "20    15.151129\n",
       "21    15.151915\n",
       "22    15.151000\n",
       "23    15.164604\n",
       "24    15.185502\n",
       "25    15.203529\n",
       "26    15.216119\n",
       "27    15.229818\n",
       "28    15.217101\n",
       "29    15.158890\n",
       "30    15.198857\n",
       "31    15.200838\n",
       "32    15.216378\n",
       "33    15.237635\n",
       "34    15.241983\n",
       "35    15.258585\n",
       "36    15.266512\n",
       "37    15.284095\n",
       "38    15.291849\n",
       "39    15.289351\n",
       "40    15.250232\n",
       "41    15.280617\n",
       "42    15.294937\n",
       "43    15.318055\n",
       "Name: gdppc, dtype: float64"
      ]
     },
     "execution_count": 17,
     "metadata": {},
     "output_type": "execute_result"
    }
   ],
   "source": [
    "np.log( df[\"gdppc\"] )"
   ]
  },
  {
   "cell_type": "code",
   "execution_count": 18,
   "id": "a8fa43b3-938e-494b-98c9-e648ae3784db",
   "metadata": {},
   "outputs": [],
   "source": [
    "df[\"loge_gdppc\"] = np.log( df[\"gdppc\"] )"
   ]
  },
  {
   "cell_type": "code",
   "execution_count": 19,
   "id": "b052bc2d-720f-423b-af24-9cf26b9a3cf6",
   "metadata": {},
   "outputs": [
    {
     "data": {
      "text/plain": [
       "<Axes: xlabel='year'>"
      ]
     },
     "execution_count": 19,
     "metadata": {},
     "output_type": "execute_result"
    },
    {
     "data": {
      "image/png": "[encoded data removed]",
      "text/plain": [
       "<Figure size 640x480 with 1 Axes>"
      ]
     },
     "metadata": {},
     "output_type": "display_data"
    }
   ],
   "source": [
    "df.plot(x=\"year\", y=\"loge_gdppc\")"
   ]
  },
  {
   "cell_type": "markdown",
   "id": "11431761-893d-4562-bf8d-3a9d3339fa89",
   "metadata": {},
   "source": [
    "縦軸は自然対数になっています。"
   ]
  }
 ],
 "metadata": {
  "kernelspec": {
   "display_name": "py12",
   "language": "python",
   "name": "py12"
  },
  "language_info": {
   "codemirror_mode": {
    "name": "ipython",
    "version": 3
   },
   "file_extension": ".py",
   "mimetype": "text/x-python",
   "name": "python",
   "nbconvert_exporter": "python",
   "pygments_lexer": "ipython3",
   "version": "3.12.2"
  }
 },
 "nbformat": 4,
 "nbformat_minor": 5
}
